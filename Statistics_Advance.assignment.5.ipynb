{
 "cells": [
  {
   "cell_type": "code",
   "execution_count": 2,
   "id": "8020e9b5-45ee-4d42-b769-84a42d440ff2",
   "metadata": {},
   "outputs": [
    {
     "name": "stdout",
     "output_type": "stream",
     "text": [
      "Sample Mean: 50\n",
      "Confidence Interval: (49.00789152424566, 50.99210847575434)\n"
     ]
    }
   ],
   "source": [
    "#Statistics-assignment-5 \n",
    "#Question.1 Calculate the 95% confidence interval for a sample of data with a mean of 50 and a standard deviation\n",
    "#of 5 using Python. Interpret the results.\n",
    "#Answer.1 : \n",
    "import scipy.stats as stats\n",
    "\n",
    "# Given data\n",
    "sample_mean = 50\n",
    "sample_std_dev = 5\n",
    "confidence_level = 0.95\n",
    "sample_size = 100  # Assumed sample size\n",
    "\n",
    "# Calculate the standard error\n",
    "standard_error = sample_std_dev / (sample_size ** 0.5)\n",
    "\n",
    "# Calculate the margin of error\n",
    "margin_of_error = stats.t.ppf((1 + confidence_level) / 2, df=sample_size - 1) * standard_error\n",
    "\n",
    "# Calculate the confidence interval\n",
    "confidence_interval_lower = sample_mean - margin_of_error\n",
    "confidence_interval_upper = sample_mean + margin_of_error\n",
    "\n",
    "# Print the results\n",
    "print(\"Sample Mean:\", sample_mean)\n",
    "print(\"Confidence Interval:\", (confidence_interval_lower, confidence_interval_upper))\n",
    "\n"
   ]
  },
  {
   "cell_type": "code",
   "execution_count": 3,
   "id": "4745118d-5c5e-4368-97ac-cf1f06eae91f",
   "metadata": {},
   "outputs": [
    {
     "name": "stdout",
     "output_type": "stream",
     "text": [
      "Chi-square statistic: 15.138888888888888\n",
      "p-value: 0.009785083099135202\n",
      "Reject the null hypothesis: The distribution of colors does not match the expected distribution.\n"
     ]
    }
   ],
   "source": [
    "#Question.2 Conduct a chi-square goodness of fit test to determine if the distribution of colors of M&Ms in a bag\n",
    "#matches the expected distribution of 20% blue, 20% orange, 20% green, 10% yellow, 10% red, and 20%\n",
    "#brown. Use Python to perform the test with a significance level of 0.05.\n",
    "#Answer.2 :\n",
    "import numpy as np\n",
    "from scipy.stats import chisquare\n",
    "\n",
    "# Observed frequencies (actual counts of each color in the bag)\n",
    "observed_frequencies = np.array([50, 45, 35, 15, 10, 25])  # Replace with your observed counts\n",
    "\n",
    "# Expected frequencies based on the expected distribution\n",
    "expected_frequencies = np.array([0.2, 0.2, 0.2, 0.1, 0.1, 0.2]) * observed_frequencies.sum()\n",
    "\n",
    "# Perform the chi-square goodness of fit test\n",
    "chi2_stat, p_value = chisquare(f_obs=observed_frequencies, f_exp=expected_frequencies)\n",
    "\n",
    "# Significance level\n",
    "alpha = 0.05\n",
    "\n",
    "# Print the results\n",
    "print(\"Chi-square statistic:\", chi2_stat)\n",
    "print(\"p-value:\", p_value)\n",
    "\n",
    "if p_value < alpha:\n",
    "    print(\"Reject the null hypothesis: The distribution of colors does not match the expected distribution.\")\n",
    "else:\n",
    "    print(\"Fail to reject the null hypothesis: The distribution of colors matches the expected distribution.\")\n"
   ]
  },
  {
   "cell_type": "code",
   "execution_count": 5,
   "id": "52ec610b-33aa-4ae8-863a-45911f5db6b7",
   "metadata": {},
   "outputs": [
    {
     "name": "stdout",
     "output_type": "stream",
     "text": [
      "Chi-square statistic: 5.833333333333334\n",
      "p-value: 0.05411376622282158\n",
      "Degrees of freedom: 2\n",
      "Expected frequencies:\n",
      "[[15. 20.]\n",
      " [15. 20.]\n",
      " [15. 20.]]\n",
      "Fail to reject the null hypothesis: The variables are independent.\n"
     ]
    }
   ],
   "source": [
    "#Question.3 Use Python to calculate the chi-square statistic and p-value for a contingency table with the following\n",
    "#data: \n",
    "#         groupA groupB\n",
    "#Outcome.1 20    15   \n",
    "#Outcome.2 10    25   \n",
    "#Outcome.3 15    20  \n",
    "#Interpret the results of the test.\n",
    "#Answer.3 : \n",
    "import numpy as np\n",
    "from scipy.stats import chi2_contingency\n",
    "\n",
    "# Contingency table data\n",
    "observed = np.array([[20, 15], [10, 25], [15, 20]])\n",
    "\n",
    "# Perform the chi-square test for independence\n",
    "chi2_stat, p_value, dof, expected = chi2_contingency(observed)\n",
    "\n",
    "# Significance level\n",
    "alpha = 0.05\n",
    "\n",
    "# Print the results\n",
    "print(\"Chi-square statistic:\", chi2_stat)\n",
    "print(\"p-value:\", p_value)\n",
    "print(\"Degrees of freedom:\", dof)\n",
    "print(\"Expected frequencies:\")\n",
    "print(expected)\n",
    "\n",
    "if p_value < alpha:\n",
    "    print(\"Reject the null hypothesis: The variables are dependent.\")\n",
    "else:\n",
    "    print(\"Fail to reject the null hypothesis: The variables are independent.\")"
   ]
  },
  {
   "cell_type": "code",
   "execution_count": 7,
   "id": "0911e792-655d-48f0-b5ef-8f372bfabacb",
   "metadata": {},
   "outputs": [
    {
     "name": "stdout",
     "output_type": "stream",
     "text": [
      "Sample Proportion: 0.12\n",
      "Confidence Interval: (0.09151638887130707, 0.1484836111286929)\n"
     ]
    }
   ],
   "source": [
    "#Question.4 A study of the prevalence of smoking in a population of 500 individuals found that 60 individuals\n",
    "#smoked. Use Python to calculate the 95% confidence interval for the true proportion of individuals in the\n",
    "#population who smoke.\n",
    "#Answer.4 : \n",
    "import scipy.stats as stats\n",
    "\n",
    "# Given data\n",
    "sample_size = 500\n",
    "observed_smokers = 60\n",
    "\n",
    "# Calculate the sample proportion\n",
    "sample_proportion = observed_smokers / sample_size\n",
    "\n",
    "# Calculate the standard error\n",
    "standard_error = (sample_proportion * (1 - sample_proportion) / sample_size) ** 0.5\n",
    "\n",
    "# Calculate the z-score for the desired confidence level\n",
    "confidence_level = 0.95\n",
    "z_score = stats.norm.ppf(1 - (1 - confidence_level) / 2)\n",
    "\n",
    "# Calculate the margin of error\n",
    "margin_of_error = z_score * standard_error\n",
    "\n",
    "# Calculate the confidence interval\n",
    "confidence_interval = (sample_proportion - margin_of_error, sample_proportion + margin_of_error)\n",
    "\n",
    "# Print the results\n",
    "print(\"Sample Proportion:\", sample_proportion)\n",
    "print(\"Confidence Interval:\", confidence_interval)"
   ]
  },
  {
   "cell_type": "code",
   "execution_count": 9,
   "id": "1ed12879-1831-45dd-a4e0-8d35a9689977",
   "metadata": {},
   "outputs": [
    {
     "name": "stdout",
     "output_type": "stream",
     "text": [
      "Sample Mean: 75\n",
      "Confidence Interval: (73.02617564765823, 76.97382435234177)\n"
     ]
    }
   ],
   "source": [
    "#Question.5 Calculate the 90% confidence interval for a sample of data with a mean of 75 and a standard deviation\n",
    "#of 12 using Python. Interpret the results.\n",
    "#Answer.5 : \n",
    "import scipy.stats as stats\n",
    "\n",
    "# Given data\n",
    "sample_mean = 75\n",
    "sample_std_dev = 12\n",
    "confidence_level = 0.90\n",
    "sample_size = 100  # assumed sample size\n",
    "\n",
    "# Calculate the standard error\n",
    "standard_error = sample_std_dev / (sample_size ** 0.5)\n",
    "\n",
    "# Calculate the margin of error\n",
    "margin_of_error = stats.norm.ppf((1 + confidence_level) / 2) * standard_error\n",
    "\n",
    "# Calculate the confidence interval\n",
    "confidence_interval_lower = sample_mean - margin_of_error\n",
    "confidence_interval_upper = sample_mean + margin_of_error\n",
    "\n",
    "# Print the results\n",
    "print(\"Sample Mean:\", sample_mean)\n",
    "print(\"Confidence Interval:\", (confidence_interval_lower, confidence_interval_upper))\n"
   ]
  },
  {
   "cell_type": "code",
   "execution_count": 10,
   "id": "ad31b152-d1ca-4d89-ba75-534b419acb49",
   "metadata": {},
   "outputs": [
    {
     "data": {
      "image/png": "[encoded data removed]",
      "text/plain": [
       "<Figure size 640x480 with 1 Axes>"
      ]
     },
     "metadata": {},
     "output_type": "display_data"
    }
   ],
   "source": [
    "#Question.6 Use Python to plot the chi-square distribution with 10 degrees of freedom. Label the axes and shade the\n",
    "#area corresponding to a chi-square statistic of 15.\n",
    "#Answer.6 : \n",
    "import numpy as np\n",
    "import matplotlib.pyplot as plt\n",
    "import scipy.stats as stats\n",
    "\n",
    "# Degrees of freedom\n",
    "df = 10\n",
    "\n",
    "# Create a range of x values\n",
    "x = np.linspace(0, 30, 500)\n",
    "\n",
    "# Calculate the chi-square PDF for the given degrees of freedom\n",
    "chi2_pdf = stats.chi2.pdf(x, df)\n",
    "\n",
    "# Create the plot\n",
    "plt.plot(x, chi2_pdf, label=f\"Degrees of Freedom = {df}\")\n",
    "plt.fill_between(x, chi2_pdf, where=(x >= 0) & (x <= 15), color='skyblue', alpha=0.5)\n",
    "\n",
    "# Add labels and title\n",
    "plt.xlabel('Chi-square Statistic')\n",
    "plt.ylabel('Probability Density')\n",
    "plt.title('Chi-square Distribution')\n",
    "\n",
    "# Add a legend\n",
    "plt.legend()\n",
    "\n",
    "# Show the plot\n",
    "plt.show()"
   ]
  },
  {
   "cell_type": "code",
   "execution_count": 11,
   "id": "ef983871-65fc-4819-915e-9c0f4d8b538c",
   "metadata": {},
   "outputs": [
    {
     "name": "stdout",
     "output_type": "stream",
     "text": [
      "Sample Proportion: 0.52\n",
      "Confidence Interval: (0.4793051576779699, 0.5606948423220302)\n"
     ]
    }
   ],
   "source": [
    "#Question.7 A random sample of 1000 people was asked if they preferred Coke or Pepsi. Of the sample, 520\n",
    "#preferred Coke. Calculate a 99% confidence interval for the true proportion of people in the population who\n",
    "#prefer Coke.\n",
    "#Answer.7 : \n",
    "import scipy.stats as stats\n",
    "\n",
    "# Given data\n",
    "sample_size = 1000\n",
    "observed_preferred_coke = 520\n",
    "confidence_level = 0.99\n",
    "\n",
    "# Calculate the sample proportion\n",
    "sample_proportion = observed_preferred_coke / sample_size\n",
    "\n",
    "# Calculate the standard error\n",
    "standard_error = (sample_proportion * (1 - sample_proportion) / sample_size) ** 0.5\n",
    "\n",
    "# Calculate the margin of error\n",
    "z_score = stats.norm.ppf((1 + confidence_level) / 2)\n",
    "margin_of_error = z_score * standard_error\n",
    "\n",
    "# Calculate the confidence interval\n",
    "confidence_interval_lower = sample_proportion - margin_of_error\n",
    "confidence_interval_upper = sample_proportion + margin_of_error\n",
    "\n",
    "# Print the results\n",
    "print(\"Sample Proportion:\", sample_proportion)\n",
    "print(\"Confidence Interval:\", (confidence_interval_lower, confidence_interval_upper))"
   ]
  },
  {
   "cell_type": "code",
   "execution_count": 12,
   "id": "7dd058d5-434a-4b64-adcb-e8c9672eaa11",
   "metadata": {},
   "outputs": [
    {
     "name": "stdout",
     "output_type": "stream",
     "text": [
      "Chi-square statistic: 1.0\n",
      "p-value: 0.31731050786291115\n",
      "Fail to reject the null hypothesis: The observed frequencies match the expected frequencies of a fair coin.\n"
     ]
    }
   ],
   "source": [
    "#Question.8 A researcher hypothesizes that a coin is biased towards tails. They flip the coin 100 times and observe\n",
    "#45 tails. Conduct a chi-square goodness of fit test to determine if the observed frequencies match the\n",
    "#expected frequencies of a fair coin. Use a significance level of 0.05.\n",
    "#Answer.8 : \n",
    "import numpy as np\n",
    "import scipy.stats as stats\n",
    "\n",
    "# Given data\n",
    "observed_frequencies = np.array([55, 45])  # 55 heads, 45 tails\n",
    "expected_frequencies = np.array([0.5, 0.5]) * observed_frequencies.sum()\n",
    "\n",
    "# Perform the chi-square goodness of fit test\n",
    "chi2_stat, p_value = stats.chisquare(f_obs=observed_frequencies, f_exp=expected_frequencies)\n",
    "\n",
    "# Significance level\n",
    "alpha = 0.05\n",
    "\n",
    "# Print the results\n",
    "print(\"Chi-square statistic:\", chi2_stat)\n",
    "print(\"p-value:\", p_value)\n",
    "\n",
    "if p_value < alpha:\n",
    "    print(\"Reject the null hypothesis: The observed frequencies do not match the expected frequencies of a fair coin.\")\n",
    "else:\n",
    "    print(\"Fail to reject the null hypothesis: The observed frequencies match the expected frequencies of a fair coin.\")"
   ]
  },
  {
   "cell_type": "code",
   "execution_count": 13,
   "id": "526fbd78-2c1e-425b-9dba-c825a37f5a04",
   "metadata": {},
   "outputs": [
    {
     "name": "stdout",
     "output_type": "stream",
     "text": [
      "Chi-square statistic: 12.057347670250895\n",
      "p-value: 0.0005158863863703744\n",
      "Degrees of freedom: 1\n",
      "Expected frequencies:\n",
      "[[ 45. 155.]\n",
      " [ 45. 155.]]\n",
      "Reject the null hypothesis: There is a significant association between smoking status and lung cancer diagnosis.\n"
     ]
    }
   ],
   "source": [
    "#Question.9 A study was conducted to determine if there is an association between smoking status (smoker or\n",
    "#non-smoker) and lung cancer diagnosis (yes or no). The results are shown in the contingency table below.\n",
    "#Conduct a chi-square test for independence to determine if there is a significant association between\n",
    "#smoking status and lung cancer diagnosis.\n",
    "#             LungCancer:Yes    LungCancer:No\n",
    "#smoker         60                140\n",
    "#Non_smoker     30                170\n",
    "\n",
    "#Use a significance level of 0.05.\n",
    "#Answer.9 : \n",
    "import numpy as np\n",
    "import scipy.stats as stats\n",
    "\n",
    "# Given data (contingency table)\n",
    "observed_data = np.array([[60, 140], [30, 170]])\n",
    "\n",
    "# Perform the chi-square test for independence\n",
    "chi2_stat, p_value, dof, expected = stats.chi2_contingency(observed_data)\n",
    "\n",
    "# Significance level\n",
    "alpha = 0.05\n",
    "\n",
    "# Print the results\n",
    "print(\"Chi-square statistic:\", chi2_stat)\n",
    "print(\"p-value:\", p_value)\n",
    "print(\"Degrees of freedom:\", dof)\n",
    "print(\"Expected frequencies:\")\n",
    "print(expected)\n",
    "\n",
    "if p_value < alpha:\n",
    "    print(\"Reject the null hypothesis: There is a significant association between smoking status and lung cancer diagnosis.\")\n",
    "else:\n",
    "    print(\"Fail to reject the null hypothesis: There is no significant association between smoking status and lung cancer diagnosis.\")\n"
   ]
  },
  {
   "cell_type": "code",
   "execution_count": 14,
   "id": "da23b8a9-3961-4739-8c8e-aba5a4d39ed0",
   "metadata": {},
   "outputs": [
    {
     "name": "stdout",
     "output_type": "stream",
     "text": [
      "Chi-square statistic: 13.393665158371041\n",
      "p-value: 0.0012348168997745918\n",
      "Degrees of freedom: 2\n",
      "Expected frequencies:\n",
      "[[212.5 162.5 125. ]\n",
      " [212.5 162.5 125. ]]\n",
      "Reject the null hypothesis: There is a significant association between chocolate preference and country of origin.\n"
     ]
    }
   ],
   "source": [
    "#Question.10 A study was conducted to determine if the proportion of people who prefer milk chocolate, dark\n",
    "#chocolate, or white chocolate is different in the U.S. versus the U.K. A random sample of 500 people from\n",
    "#the U.S. and a random sample of 500 people from the U.K. were surveyed. The results are shown in the\n",
    "#contingency table below. Conduct a chi-square test for independence to determine if there is a significant\n",
    "#association between chocolate preference and country of origin.\n",
    "\n",
    "#             Milk Chocolate  Dark Chocolate  White Chocolate\n",
    "#U.S. (n=500)      200        150                150\n",
    "#U.K. (n=500)      225        175                100\n",
    "\n",
    "#Use a significance level of 0.01.\n",
    "#Answer.10 : \n",
    "import numpy as np\n",
    "import scipy.stats as stats\n",
    "\n",
    "# Given data (contingency table)\n",
    "observed_data = np.array([[200, 150, 150], [225, 175, 100]])\n",
    "\n",
    "# Perform the chi-square test for independence\n",
    "chi2_stat, p_value, dof, expected = stats.chi2_contingency(observed_data)\n",
    "\n",
    "# Significance level\n",
    "alpha = 0.01\n",
    "\n",
    "# Print the results\n",
    "print(\"Chi-square statistic:\", chi2_stat)\n",
    "print(\"p-value:\", p_value)\n",
    "print(\"Degrees of freedom:\", dof)\n",
    "print(\"Expected frequencies:\")\n",
    "print(expected)\n",
    "\n",
    "if p_value < alpha:\n",
    "    print(\"Reject the null hypothesis: There is a significant association between chocolate preference and country of origin.\")\n",
    "else:\n",
    "    print(\"Fail to reject the null hypothesis: There is no significant association between chocolate preference and country of origin.\")\n"
   ]
  },
  {
   "cell_type": "code",
   "execution_count": 15,
   "id": "29dec230-52db-4a8d-9d27-4cd6c149c2d2",
   "metadata": {},
   "outputs": [
    {
     "name": "stdout",
     "output_type": "stream",
     "text": [
      "Sample Mean: 72\n",
      "Hypothesized Population Mean: 70\n",
      "t-statistic: 1.0954451150103321\n",
      "Critical t-value: 2.045229642132703\n",
      "p-value: 0.2823362372860698\n",
      "Fail to reject the null hypothesis: There is no significant difference in the population mean.\n"
     ]
    }
   ],
   "source": [
    "#Question.11 A random sample of 30 people was selected from a population with an unknown mean and standard\n",
    "#deviation. The sample mean was found to be 72 and the sample standard deviation was found to be 10.\n",
    "#Conduct a hypothesis test to determine if the population mean is significantly different from 70. Use a\n",
    "#significance level of 0.05.\n",
    "#Answer.11 : \n",
    "import scipy.stats as stats\n",
    "\n",
    "# Given data\n",
    "sample_mean = 72\n",
    "sample_std_dev = 10\n",
    "population_mean_hypothesized = 70\n",
    "sample_size = 30\n",
    "confidence_level = 0.95\n",
    "\n",
    "# Calculate the standard error\n",
    "standard_error = sample_std_dev / (sample_size ** 0.5)\n",
    "\n",
    "# Calculate the t-statistic\n",
    "t_statistic = (sample_mean - population_mean_hypothesized) / standard_error\n",
    "\n",
    "# Calculate the degrees of freedom\n",
    "degrees_of_freedom = sample_size - 1\n",
    "\n",
    "# Calculate the critical t-value for the two-tailed test\n",
    "alpha = 0.05\n",
    "critical_t_value = stats.t.ppf(1 - alpha / 2, df=degrees_of_freedom)\n",
    "\n",
    "# Calculate the p-value\n",
    "p_value = 2 * (1 - stats.t.cdf(abs(t_statistic), df=degrees_of_freedom))\n",
    "\n",
    "# Print the results\n",
    "print(\"Sample Mean:\", sample_mean)\n",
    "print(\"Hypothesized Population Mean:\", population_mean_hypothesized)\n",
    "print(\"t-statistic:\", t_statistic)\n",
    "print(\"Critical t-value:\", critical_t_value)\n",
    "print(\"p-value:\", p_value)\n",
    "\n",
    "if abs(t_statistic) > critical_t_value:\n",
    "    print(\"Reject the null hypothesis: The population mean is significantly different from 70.\")\n",
    "else:\n",
    "    print(\"Fail to reject the null hypothesis: There is no significant difference in the population mean.\")"
   ]
  }
 ],
 "metadata": {
  "kernelspec": {
   "display_name": "Python 3 (ipykernel)",
   "language": "python",
   "name": "python3"
  },
  "language_info": {
   "codemirror_mode": {
    "name": "ipython",
    "version": 3
   },
   "file_extension": ".py",
   "mimetype": "text/x-python",
   "name": "python",
   "nbconvert_exporter": "python",
   "pygments_lexer": "ipython3",
   "version": "3.10.8"
  }
 },
 "nbformat": 4,
 "nbformat_minor": 5
}
