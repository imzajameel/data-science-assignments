{
 "cells": [
  {
   "cell_type": "code",
   "execution_count": 1,
   "id": "d406fd6c-dc54-4168-a794-ed5cf896da0f",
   "metadata": {},
   "outputs": [
    {
     "name": "stdout",
     "output_type": "stream",
     "text": [
      "Pearson Correlation Coefficient: 0.9518818183930328\n"
     ]
    }
   ],
   "source": [
    "#Feature_Engineering , Assignmnet.5 \n",
    "#Question.1 : Pearson correlation coefficient is a measure of the linear relationship between two variables. Suppose\n",
    "#you have collected data on the amount of time students spend studying for an exam and their final exam\n",
    "#scores. Calculate the Pearson correlation coefficient between these two variables and interpret the result.\n",
    "#Answer.1 : \n",
    "import numpy as np\n",
    "\n",
    "# Sample data\n",
    "study_time = np.array([10, 15, 8, 12, 16, 5, 18, 7, 14, 9])\n",
    "exam_scores = np.array([80, 85, 70, 75, 90, 60, 95, 65, 88, 78])\n",
    "\n",
    "# Calculate the Pearson correlation coefficient\n",
    "pearson_corr = np.corrcoef(study_time, exam_scores)[0, 1]\n",
    "\n",
    "print(\"Pearson Correlation Coefficient:\", pearson_corr)\n",
    "\n",
    "#Interpretation:\n",
    "\n",
    "#The calculated Pearson correlation coefficient is a value between -1 and 1 that represents the strength \n",
    "#and direction of the linear relationship between the two variables:\n",
    "\n",
    "#If the Pearson correlation coefficient is close to 1, it indicates a strong positive linear relationship.\n",
    "#This means that as one variable (studying time) increases, the other variable (exam scores) tends to increase\n",
    "#as well. In the context of the example, this would mean that students who study more tend to have higher exam scores.\n",
    "\n",
    "#If the Pearson correlation coefficient is close to -1, it indicates a strong negative linear relationship. \n",
    "#This means that as one variable increases, the other variable tends to decrease. In the example, this would\n",
    "#suggest that students who study less tend to have higher exam scores.\n",
    "\n",
    "#If the Pearson correlation coefficient is close to 0, it indicates a weak or no linear relationship. This means \n",
    "#that changes in one variable are not associated with consistent changes in the other variable.\n",
    "\n",
    "#In the context of the example, the Pearson correlation coefficient will help you understand whether there is a\n",
    "#linear relationship between the amount of time students spend studying and their final exam scores. Keep in mind\n",
    "#that while Pearson correlation is a useful measure, it only captures linear relationships. Non-linear relationships\n",
    "#may not be well-represented by the Pearson correlation coefficient."
   ]
  },
  {
   "cell_type": "code",
   "execution_count": 2,
   "id": "127c562e-fa73-47f4-aa90-a7c02bdc0b96",
   "metadata": {},
   "outputs": [
    {
     "name": "stdout",
     "output_type": "stream",
     "text": [
      "Spearman's Rank Correlation: 0.658397793374938\n"
     ]
    }
   ],
   "source": [
    "#Question.2 : Spearman's rank correlation is a measure of the monotonic relationship between two variables.\n",
    "#Suppose you have collected data on the amount of sleep individuals get each night and their overall job\n",
    "#satisfaction level on a scale of 1 to 10. Calculate the Spearman's rank correlation between these two\n",
    "#variables and interpret the result.\n",
    "#Answer.2 : \n",
    "import scipy.stats as stats\n",
    "\n",
    "# Sample data\n",
    "sleep_hours = [7, 6, 8, 5, 9, 6, 7, 8, 5, 9]\n",
    "job_satisfaction = [8, 6, 9, 4, 7, 5, 8, 9, 3, 6]\n",
    "\n",
    "# Calculate the Spearman's rank correlation\n",
    "spearman_corr, _ = stats.spearmanr(sleep_hours, job_satisfaction)\n",
    "\n",
    "print(\"Spearman's Rank Correlation:\", spearman_corr)\n",
    "\n",
    "#Interpretation:\n",
    "\n",
    "#The calculated Spearman's rank correlation is a value between -1 and 1 that measures the strength and direction\n",
    "#of the monotonic relationship between the two variables:\n",
    "\n",
    "#If the Spearman's rank correlation is close to 1, it indicates a strong positive monotonic relationship. This\n",
    "#means that as one variable (sleep hours) increases, the other variable (job satisfaction) tends to increase as \n",
    "#well, and vice versa.\n",
    "\n",
    "#If the Spearman's rank correlation is close to -1, it indicates a strong negative monotonic relationship. This\n",
    "#means that as one variable increases, the other variable tends to decrease, and vice versa.\n",
    "\n",
    "#If the Spearman's rank correlation is close to 0, it indicates a weak or no monotonic relationship. This means\n",
    "#that there is no consistent pattern of change between the variables.\n",
    "\n",
    "#In the context of the example, the Spearman's rank correlation will help you understand whether there is a\n",
    "#monotonic relationship between the amount of sleep individuals get each night and their overall job satisfaction\n",
    "#level. Keep in mind that unlike Pearson correlation, Spearman's rank correlation can capture non-linear relationships\n",
    "#as long as the monotonic pattern is present."
   ]
  },
  {
   "cell_type": "code",
   "execution_count": 21,
   "id": "ae10011a-e9bd-4321-9206-3707d57ab0b1",
   "metadata": {},
   "outputs": [
    {
     "name": "stdout",
     "output_type": "stream",
     "text": [
      "Pearson Correlation Coefficient: 0.022221293587525563\n",
      "Spearman's Rank Correlation: -0.0019030967423127724\n"
     ]
    }
   ],
   "source": [
    "#Question.3 : Suppose you are conducting a study to examine the relationship between the number of hours of\n",
    "#exercise per week and body mass index (BMI) in a sample of adults. You collected data on both variables\n",
    "#for 50 participants. Calculate the Pearson correlation coefficient and the Spearman's rank correlation\n",
    "#between these two variables and compare the results.\n",
    "#Answer.3 : \n",
    "import numpy as np\n",
    "import scipy.stats as stats\n",
    "\n",
    "# Sample data\n",
    "exercise_hours = np.array([3, 5, 4, 2, 6, 4, 3, 2, 1, 5,\n",
    "                           5, 3, 4, 2, 1, 5, 6, 4, 3, 2, \n",
    "                           4, 3, 2, 1, 5, 6, 4, 3, 2, 1,\n",
    "                           5, 3, 4, 2, 1, 5, 6, 4, 3, 2, \n",
    "                           4, 3, 2, 1, 5, 6, 4, 3, 2, 1])\n",
    "\n",
    "bmi = np.array([23.5, 25.7, 27.3, 29.1, 22.2, 26.8, 28.7, 21.3, 30.2, 24.4,\n",
    "                23.6, 25.4, 27.8, 29.5, 22.0, 26.6, 28.1, 21.6, 30.3, 24.1,\n",
    "                23.9, 25.1, 27.2, 29.8, 22.4, 26.5, 28.9, 21.1, 30.4, 24.9,\n",
    "                33.5, 35.7, 37.3, 39.1, 32.2, 36.8, 38.7, 31.3, 30.2, 24.4,\n",
    "                33.6, 35.4, 37.8, 39.5, 32.0, 36.6, 38.1, 31.6, 30.3, 24.1,])\n",
    "\n",
    "# Calculate Pearson correlation coefficient\n",
    "pearson_corr = np.corrcoef(exercise_hours, bmi)[0, 1]\n",
    "\n",
    "# Calculate Spearman's rank correlation\n",
    "spearman_corr, _ = stats.spearmanr(exercise_hours, bmi)\n",
    "\n",
    "print(\"Pearson Correlation Coefficient:\", pearson_corr)\n",
    "print(\"Spearman's Rank Correlation:\", spearman_corr)\n",
    "\n"
   ]
  },
  {
   "cell_type": "code",
   "execution_count": 20,
   "id": "ee0a2872-169a-477a-a6d1-16f1419dbe6f",
   "metadata": {},
   "outputs": [
    {
     "name": "stdout",
     "output_type": "stream",
     "text": [
      "Pearson Correlation Coefficient: 0.058578833805612074\n"
     ]
    }
   ],
   "source": [
    "#Question.4 : A researcher is interested in examining the relationship between the number of hours individuals\n",
    "#spend watching television per day and their level of physical activity. The researcher collected data on\n",
    "#both variables from a sample of 50 participants. Calculate the Pearson correlation coefficient between\n",
    "#these two variables.\n",
    "#Answer.4 : \n",
    "import numpy as np\n",
    "\n",
    "# Sample data\n",
    "tv_hours = np.array([3, 4, 2, 5, 1, 6, 4, 2, 3,2,\n",
    "                     2, 5, 1, 6, 4, 2, 3, 5, 2,5, \n",
    "                     5, 1, 6, 4, 2, 3, 5, 2, 4,1,\n",
    "                     5, 3, 4, 2, 1, 5, 6, 4, 3, 2, \n",
    "                     4, 3, 2, 1, 5, 6, 4, 3, 2, 1])\n",
    "\n",
    "physical_activity = np.array([2, 3, 2, 4, 1, 5, 3, 2, 2, 4, \n",
    "                              2, 4, 1, 5, 3, 2, 2, 4, 2, 3, \n",
    "                              4, 1, 5, 3, 2, 2, 4, 2, 3, 1,\n",
    "                              24,25,27,29,22,26,28,21,30,24,\n",
    "                              27,29,22,26,28,21,30,24,24,25])\n",
    "\n",
    "# Calculate Pearson correlation coefficient\n",
    "pearson_corr = np.corrcoef(tv_hours, physical_activity)[0, 1]\n",
    "\n",
    "print(\"Pearson Correlation Coefficient:\", pearson_corr)\n"
   ]
  },
  {
   "cell_type": "code",
   "execution_count": 17,
   "id": "201a2428-31c6-4f5b-a835-85145918606a",
   "metadata": {},
   "outputs": [
    {
     "name": "stdout",
     "output_type": "stream",
     "text": [
      "   Age  Preference_Coke  Preference_Mountain Dew  Preference_Pepsi\n",
      "0   25                1                        0                 0\n",
      "1   42                0                        0                 1\n",
      "2   37                0                        1                 0\n",
      "3   19                1                        0                 0\n",
      "4   31                0                        0                 1\n",
      "5   28                1                        0                 0\n"
     ]
    }
   ],
   "source": [
    "#Question.5 : A survey was conducted to examine the relationship between age and preference for a particular\n",
    "#brand of soft drink. The survey results are shown below :\n",
    "\n",
    "#Age(Years) Soft drink Preference\n",
    "# 25                Coke\n",
    "# 42                Pepsi\n",
    "# 37            Mountain dew\n",
    "# 19                Coke\n",
    "# 31                Pepsi\n",
    "# 28                Coke\n",
    "#Answer.5 :  \n",
    "import pandas as pd\n",
    "\n",
    "# Create a DataFrame with the survey data\n",
    "data = {'Age': [25, 42, 37, 19, 31, 28],\n",
    "        'SoftDrinkPreference': ['Coke', 'Pepsi', 'Mountain Dew', 'Coke', 'Pepsi', 'Coke']}\n",
    "\n",
    "df = pd.DataFrame(data)\n",
    "\n",
    "# Perform one-hot encoding\n",
    "encoded_df = pd.get_dummies(df, columns=['SoftDrinkPreference'], prefix=['Preference'])\n",
    "\n",
    "print(encoded_df)\n"
   ]
  },
  {
   "cell_type": "code",
   "execution_count": null,
   "id": "0c60f7ee-5169-456c-a3a2-751950edafaa",
   "metadata": {},
   "outputs": [],
   "source": [
    "#Question.6 : A company is interested in examining the relationship between the number of sales calls made per day\n",
    "#and the number of sales made per week. The company collected data on both variables from a sample of\n",
    "#30 sales representatives. Calculate the Pearson correlation coefficient between these two variables.\n",
    "#Answer.6 : \n",
    "import numpy as np\n",
    "\n",
    "# Sample data\n",
    "sales_calls_per_day = np.array([20, 25, 30, 15, 10, 22, 18, 24, 28, 12, 16, 19, 21, 26,\n",
    "                                14, 17, 23, 29, 11, 27, 31, 13, 9, 23, 20, 18, 25, 30,\n",
    "                                21, 15])\n",
    "\n",
    "sales_per_week = np.array([5, 7, 10, 3, 2, 6, 4, 8, 9, 2, 3, 5, 6, 8, 3, 4, 7, 9, 1,\n",
    "                           8, 10, 2, 1, 7, 6, 4, 7, 9, 5, 3])\n",
    "\n",
    "# Calculate Pearson correlation coefficient\n",
    "pearson_corr = np.corrcoef(sales_calls_per_day, sales_per_week)[0, 1]\n",
    "\n",
    "print(\"Pearson Correlation Coefficient:\", pearson_corr)\n"
   ]
  }
 ],
 "metadata": {
  "kernelspec": {
   "display_name": "Python 3 (ipykernel)",
   "language": "python",
   "name": "python3"
  },
  "language_info": {
   "codemirror_mode": {
    "name": "ipython",
    "version": 3
   },
   "file_extension": ".py",
   "mimetype": "text/x-python",
   "name": "python",
   "nbconvert_exporter": "python",
   "pygments_lexer": "ipython3",
   "version": "3.10.8"
  }
 },
 "nbformat": 4,
 "nbformat_minor": 5
}
